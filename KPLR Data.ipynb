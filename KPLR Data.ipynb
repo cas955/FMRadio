{
 "cells": [
  {
   "cell_type": "code",
   "execution_count": null,
   "metadata": {},
   "outputs": [],
   "source": [
    "import numpy as np\n",
    "import matplotlib.pyplot as plt"
   ]
  },
  {
   "cell_type": "code",
   "execution_count": 2,
   "metadata": {
    "scrolled": false
   },
   "outputs": [
    {
     "name": "stdout",
     "output_type": "stream",
     "text": [
      "Collecting kplr\n",
      "  Downloading https://files.pythonhosted.org/packages/d1/2c/0b7e1acbf3001eb4b86718706a38789a774c81d016d0332082164a59f364/kplr-0.2.2.tar.gz\n",
      "Requirement already satisfied: six in ./anaconda3/lib/python3.6/site-packages (from kplr)\n",
      "Building wheels for collected packages: kplr\n",
      "  Running setup.py bdist_wheel for kplr ... \u001b[?25ldone\n",
      "\u001b[?25h  Stored in directory: /Users/abs/Library/Caches/pip/wheels/62/05/a9/0bf2d233dec1a6228aca8f963e793ac64b5db2c032dd24952c\n",
      "Successfully built kplr\n",
      "Installing collected packages: kplr\n",
      "Successfully installed kplr-0.2.2\n",
      "\u001b[33mYou are using pip version 9.0.1, however version 10.0.1 is available.\n",
      "You should consider upgrading via the 'pip install --upgrade pip' command.\u001b[0m\n"
     ]
    }
   ],
   "source": [
    "!pip install kplr"
   ]
  },
  {
   "cell_type": "code",
   "execution_count": 3,
   "metadata": {
    "scrolled": false
   },
   "outputs": [
    {
     "name": "stdout",
     "output_type": "stream",
     "text": [
      "5.90127815\n",
      "3911\n",
      "/Users/abs/.kplr/data/lightcurves/009787239/kplr009787239-2009166043257_llc.fits\n",
      "/Users/abs/.kplr/data/lightcurves/009787239/kplr009787239-2009259160929_llc.fits\n",
      "/Users/abs/.kplr/data/lightcurves/009787239/kplr009787239-2009350155506_llc.fits\n",
      "/Users/abs/.kplr/data/lightcurves/009787239/kplr009787239-2010078095331_llc.fits\n",
      "/Users/abs/.kplr/data/lightcurves/009787239/kplr009787239-2010174085026_llc.fits\n",
      "/Users/abs/.kplr/data/lightcurves/009787239/kplr009787239-2010265121752_llc.fits\n",
      "/Users/abs/.kplr/data/lightcurves/009787239/kplr009787239-2011024051157_slc.fits\n",
      "/Users/abs/.kplr/data/lightcurves/009787239/kplr009787239-2011053090032_slc.fits\n",
      "/Users/abs/.kplr/data/lightcurves/009787239/kplr009787239-2011073133259_llc.fits\n",
      "/Users/abs/.kplr/data/lightcurves/009787239/kplr009787239-2011073133259_slc.fits\n",
      "/Users/abs/.kplr/data/lightcurves/009787239/kplr009787239-2011116030358_slc.fits\n",
      "/Users/abs/.kplr/data/lightcurves/009787239/kplr009787239-2011145075126_slc.fits\n",
      "/Users/abs/.kplr/data/lightcurves/009787239/kplr009787239-2011177032512_llc.fits\n",
      "/Users/abs/.kplr/data/lightcurves/009787239/kplr009787239-2011177032512_slc.fits\n",
      "/Users/abs/.kplr/data/lightcurves/009787239/kplr009787239-2011208035123_slc.fits\n",
      "/Users/abs/.kplr/data/lightcurves/009787239/kplr009787239-2011240104155_slc.fits\n",
      "/Users/abs/.kplr/data/lightcurves/009787239/kplr009787239-2011271113734_llc.fits\n",
      "/Users/abs/.kplr/data/lightcurves/009787239/kplr009787239-2011271113734_slc.fits\n",
      "/Users/abs/.kplr/data/lightcurves/009787239/kplr009787239-2012032013838_slc.fits\n",
      "/Users/abs/.kplr/data/lightcurves/009787239/kplr009787239-2012060035710_slc.fits\n",
      "/Users/abs/.kplr/data/lightcurves/009787239/kplr009787239-2012088054726_llc.fits\n",
      "/Users/abs/.kplr/data/lightcurves/009787239/kplr009787239-2012088054726_slc.fits\n",
      "/Users/abs/.kplr/data/lightcurves/009787239/kplr009787239-2012121044856_slc.fits\n",
      "/Users/abs/.kplr/data/lightcurves/009787239/kplr009787239-2012151031540_slc.fits\n",
      "/Users/abs/.kplr/data/lightcurves/009787239/kplr009787239-2012179063303_llc.fits\n",
      "/Users/abs/.kplr/data/lightcurves/009787239/kplr009787239-2012179063303_slc.fits\n",
      "/Users/abs/.kplr/data/lightcurves/009787239/kplr009787239-2012211050319_slc.fits\n",
      "/Users/abs/.kplr/data/lightcurves/009787239/kplr009787239-2012242122129_slc.fits\n",
      "/Users/abs/.kplr/data/lightcurves/009787239/kplr009787239-2012277125453_llc.fits\n",
      "/Users/abs/.kplr/data/lightcurves/009787239/kplr009787239-2012277125453_slc.fits\n",
      "/Users/abs/.kplr/data/lightcurves/009787239/kplr009787239-2013017113907_slc.fits\n",
      "/Users/abs/.kplr/data/lightcurves/009787239/kplr009787239-2013065031647_slc.fits\n",
      "/Users/abs/.kplr/data/lightcurves/009787239/kplr009787239-2013098041711_llc.fits\n",
      "/Users/abs/.kplr/data/lightcurves/009787239/kplr009787239-2013098041711_slc.fits\n",
      "/Users/abs/.kplr/data/lightcurves/009787239/kplr009787239-2013121191144_slc.fits\n",
      "/Users/abs/.kplr/data/lightcurves/009787239/kplr009787239-2013131215648_llc.fits\n",
      "/Users/abs/.kplr/data/lightcurves/009787239/kplr009787239-2013131215648_slc.fits\n"
     ]
    }
   ],
   "source": [
    "import kplr\n",
    "client = kplr.API()\n",
    "\n",
    "# Find a KOI.\n",
    "koi = client.koi(952.01)\n",
    "print(koi.koi_period)\n",
    "\n",
    "# This KOI has an associated star.\n",
    "star = koi.star\n",
    "print(star.kic_teff)\n",
    "\n",
    "# Download the lightcurves for this KOI.\n",
    "lightcurves = koi.get_light_curves()\n",
    "for lc in lightcurves:\n",
    "    print(lc.filename)"
   ]
  },
  {
   "cell_type": "code",
   "execution_count": 4,
   "metadata": {},
   "outputs": [
    {
     "name": "stderr",
     "output_type": "stream",
     "text": [
      "WARNING:root:Unrecognized parameter: 'Gaia gmag'\n",
      "WARNING:root:Unrecognized parameter: 'Gaia gmag Err'\n",
      "WARNING:root:Unrecognized parameter: 'Gaia gmag Limit Flag'\n",
      "WARNING:root:Unrecognized parameter: 'KOI Vet Date'\n"
     ]
    },
    {
     "name": "stdout",
     "output_type": "stream",
     "text": [
      "K00952.01\n"
     ]
    }
   ],
   "source": [
    "planet = client.planet(\"32b\")\n",
    "print(planet.kepoi_name)"
   ]
  },
  {
   "cell_type": "code",
   "execution_count": null,
   "metadata": {},
   "outputs": [],
   "source": []
  }
 ],
 "metadata": {
  "kernelspec": {
   "display_name": "Python 3",
   "language": "python",
   "name": "python3"
  },
  "language_info": {
   "codemirror_mode": {
    "name": "ipython",
    "version": 3
   },
   "file_extension": ".py",
   "mimetype": "text/x-python",
   "name": "python",
   "nbconvert_exporter": "python",
   "pygments_lexer": "ipython3",
   "version": "3.6.4"
  }
 },
 "nbformat": 4,
 "nbformat_minor": 2
}
